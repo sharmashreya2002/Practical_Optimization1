{
 "cells": [
  {
   "cell_type": "code",
   "execution_count": null,
   "metadata": {},
   "outputs": [],
   "source": [
    "import numpy as np\n"
   ]
  },
  {
   "cell_type": "code",
   "execution_count": null,
   "metadata": {},
   "outputs": [],
   "source": [
    "def augment_A(A):\n",
    "    \"\"\" Augment matrix A with the negative of matrix A\"\"\"\n",
    "    augmented_A = np.concatenate((A, -A), axis=0)\n",
    "    augmented_I = np.concatenate((-1* np.identity(A.shape[0]), -1* np.identity(A.shape[0])), axis =0)\n",
    "    return np.concatenate((augmented_A, augmented_I), axis=1)\n",
    "\n",
    "def augment_b(b):\n",
    "    \"\"\" Augment matrix b with the negative of matrix b\"\"\"\n",
    "    return np.concatenate((b, -b), axis=0)\n",
    "\n",
    "def create_c(A):\n",
    "    \"\"\"Create a vector C with n zeros followed by m ones\"\"\"\n",
    "    m, n = np.shape(A)[0], np.shape(A)[1]\n",
    "    return np.concatenate((np.zeros(n), np.ones(m)), axis=0)\n"
   ]
  },
  {
   "cell_type": "code",
   "execution_count": null,
   "metadata": {},
   "outputs": [],
   "source": []
  },
  {
   "cell_type": "code",
   "execution_count": 34,
   "metadata": {},
   "outputs": [],
   "source": [
    "def calculate_gradient(x):\n",
    "    return 6*x + 2\n",
    "\n",
    "def calculate_objective_function(x):\n",
    "    return 3*x**2 + 2*x + 1\n",
    "\n",
    "def backtracking_line_search(x, alpha=0.1, beta=0.8):\n",
    "    # return 0.1\n",
    "    descent_dir = - calculate_gradient(x)\n",
    "    grad_f_normalized = calculate_gradient(x)\n",
    "    t = 1\n",
    "    while calculate_objective_function(x + t * descent_dir) > calculate_objective_function(x) + alpha * t * np.dot(descent_dir, grad_f_normalized):\n",
    "        t = beta * t\n",
    "    return t\n",
    "\n",
    "def gradient_descent(x0, epsilon = 0.001):\n",
    "    \"\"\"Gradient descent method\"\"\"\n",
    "    ## initialize x at the starting point x0\n",
    "    x = x0\n",
    "    while np.abs(calculate_gradient(x)) > epsilon:\n",
    "      gradient = -1 * calculate_gradient(x)\n",
    "      delta = backtracking_line_search(x = x)\n",
    "      x = x + delta * gradient\n",
    "      print(calculate_objective_function(x))\n",
    "    return x\n"
   ]
  },
  {
   "cell_type": "code",
   "execution_count": 35,
   "metadata": {},
   "outputs": [
    {
     "name": "stdout",
     "output_type": "stream",
     "text": [
      "0.7760577208320003\n",
      "0.7025658748608754\n",
      "0.6784478233508625\n",
      "0.6705329261135802\n",
      "0.6679354692563904\n",
      "0.6670830536251193\n",
      "0.6668033136916443\n",
      "0.6667115105529993\n",
      "0.666681383226663\n",
      "0.6666714962467017\n",
      "0.6666682516052203\n",
      "0.6666671868009642\n",
      "0.666666837360784\n",
      "0.6666667226838949\n",
      "-0.3331966863083558\n"
     ]
    }
   ],
   "source": [
    "print(gradient_descent(x0 = 0))\n"
   ]
  },
  {
   "cell_type": "markdown",
   "metadata": {},
   "source": [
    "It works for one dimension, let's try increasing the dimension of x to a 2x1 matrix now! Let's see where that takes us!"
   ]
  },
  {
   "cell_type": "code",
   "execution_count": null,
   "metadata": {},
   "outputs": [],
   "source": [
    "def calculate_gradient(x):\n",
    "    return 6*x + 2\n",
    "\n",
    "def calculate_objective_function(x):\n",
    "    return 3*x**2 + 2*x + 1\n",
    "\n",
    "def backtracking_line_search(x, alpha=0.1, beta=0.8):\n",
    "    # return 0.1\n",
    "    descent_dir = - calculate_gradient(x)\n",
    "    grad_f_normalized = calculate_gradient(x)\n",
    "    t = 1\n",
    "    while calculate_objective_function(x + t * descent_dir) > calculate_objective_function(x) + alpha * t * np.dot(descent_dir, grad_f_normalized):\n",
    "        t = beta * t\n",
    "    return t\n",
    "\n",
    "def gradient_descent(x0, epsilon = 0.001):\n",
    "    \"\"\"Gradient descent method\"\"\"\n",
    "    ## initialize x at the starting point x0\n",
    "    x = x0\n",
    "    while np.abs(calculate_gradient(x)) > epsilon:\n",
    "      gradient = -1 * calculate_gradient(x)\n",
    "      delta = backtracking_line_search(x = x)\n",
    "      x = x + delta * gradient\n",
    "      print(calculate_objective_function(x))\n",
    "    return x\n"
   ]
  }
 ],
 "metadata": {
  "kernelspec": {
   "display_name": "pracop",
   "language": "python",
   "name": "python3"
  },
  "language_info": {
   "codemirror_mode": {
    "name": "ipython",
    "version": 3
   },
   "file_extension": ".py",
   "mimetype": "text/x-python",
   "name": "python",
   "nbconvert_exporter": "python",
   "pygments_lexer": "ipython3",
   "version": "3.7.16"
  }
 },
 "nbformat": 4,
 "nbformat_minor": 2
}
