{
 "cells": [
  {
   "cell_type": "code",
   "execution_count": 45,
   "metadata": {},
   "outputs": [],
   "source": [
    "import numpy as np\n",
    "import scipy.optimize as optimize\n"
   ]
  },
  {
   "cell_type": "code",
   "execution_count": 46,
   "metadata": {},
   "outputs": [
    {
     "name": "stdout",
     "output_type": "stream",
     "text": [
      "(32, 16)\n",
      "(32,)\n"
     ]
    }
   ],
   "source": [
    "# Load data from CSV file\n",
    "A0 = np.genfromtxt('A0.csv', delimiter=',')\n",
    "b0 = np.genfromtxt('b0.csv', delimiter=',')\n",
    "A1 = np.genfromtxt('A0.csv', delimiter=',')\n",
    "b1 = np.genfromtxt('b0.csv', delimiter=',')\n",
    "A2 = np.genfromtxt('A0.csv', delimiter=',')\n",
    "b2 = np.genfromtxt('b0.csv', delimiter=',')\n",
    "A3 = np.genfromtxt('A0.csv', delimiter=',')\n",
    "b3 = np.genfromtxt('b0.csv', delimiter=',')\n",
    "A4 = np.genfromtxt('A0.csv', delimiter=',')\n",
    "b4 = np.genfromtxt('b0.csv', delimiter=',')\n",
    "\n",
    "# Print shape of the data\n",
    "print(np.shape(A0))\n",
    "print(np.shape(b0))\n"
   ]
  },
  {
   "cell_type": "markdown",
   "metadata": {},
   "source": [
    "Solve l1 Minimization -- first cast the forms into ones that would allow a Linear Programming Approach:"
   ]
  },
  {
   "cell_type": "code",
   "execution_count": 47,
   "metadata": {},
   "outputs": [],
   "source": [
    "def augment_A(A):\n",
    "    \"\"\" Augment matrix A with the negative of matrix A\"\"\"\n",
    "    augmented_A = np.concatenate((A, -A), axis=0)\n",
    "    augmented_I = np.concatenate((-1* np.identity(A.shape[0]), -1* np.identity(A.shape[0])), axis =0)\n",
    "    return np.concatenate((augmented_A, augmented_I), axis=1)\n",
    "\n",
    "def augment_b(b):\n",
    "    \"\"\" Augment matrix b with the negative of matrix b\"\"\"\n",
    "    return np.concatenate((b, -b), axis=0)\n",
    "\n",
    "def create(c, A):\n",
    "    \"\"\"Create a vector C with n zeros followed by m ones\"\"\"\n",
    "    m, n = np.shape(A)[0], np.shape(A)[1]\n",
    "    return np.concatenate((np.zeros(n), np.ones(m)), axis=0)\n"
   ]
  },
  {
   "cell_type": "markdown",
   "metadata": {},
   "source": [
    "First, solve these problems with a Simplex Method:"
   ]
  },
  {
   "cell_type": "code",
   "execution_count": 48,
   "metadata": {},
   "outputs": [],
   "source": [
    "def solve_simplex(c, A_ub, b_ub, A_eq = None, b_eq = None):\n",
    "    \"\"\" Solve the linear program\"\"\"\n",
    "    ## A_ub are the LHS of the inequality constraints, b_ub are the RHS of the inequality constraints\n",
    "    # c are the coefficients of the objective function\n",
    "    # A_eq are the LHS of the equality constraints, b_eq are the RHS of the equality constraints\n",
    "    return optimize.linprog(c, A_ub=A_ub, b_ub=b_ub, A_eq=A_eq, b_eq = b_eq, method = 'revised simplex')\n"
   ]
  },
  {
   "cell_type": "markdown",
   "metadata": {},
   "source": [
    "Then, solve these problems wth an Interior Point Method"
   ]
  },
  {
   "cell_type": "code",
   "execution_count": 49,
   "metadata": {},
   "outputs": [],
   "source": [
    "def solve_int_point(c, A_ub, b_ub, A_eq = None, b_eq = None):\n",
    "    \"\"\" Solve the linear program\"\"\"\n",
    "    ## A_ub are the LHS of the inequality constraints, b_ub are the RHS of the inequality constraints\n",
    "    # c are the coefficients of the objective function\n",
    "    # A_eq are the LHS of the equality constraints, b_eq are the RHS of the equality constraints\n",
    "    return optimize.linprog(c, A_ub=A_ub, b_ub=b_ub, A_eq=A_eq, b_eq = b_eq, method = 'interior-point')\n"
   ]
  }
 ],
 "metadata": {
  "kernelspec": {
   "display_name": "pracop",
   "language": "python",
   "name": "python3"
  },
  "language_info": {
   "codemirror_mode": {
    "name": "ipython",
    "version": 3
   },
   "file_extension": ".py",
   "mimetype": "text/x-python",
   "name": "python",
   "nbconvert_exporter": "python",
   "pygments_lexer": "ipython3",
   "version": "3.7.16"
  }
 },
 "nbformat": 4,
 "nbformat_minor": 2
}
