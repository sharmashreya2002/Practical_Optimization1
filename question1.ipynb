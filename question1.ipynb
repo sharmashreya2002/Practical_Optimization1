{
 "cells": [
  {
   "cell_type": "code",
   "execution_count": 3,
   "metadata": {},
   "outputs": [
    {
     "name": "stdout",
     "output_type": "stream",
     "text": [
      "(32, 16)\n",
      "(0,)\n"
     ]
    },
    {
     "name": "stderr",
     "output_type": "stream",
     "text": [
      "c:\\Users\\sharm\\anaconda3\\envs\\pracop\\lib\\site-packages\\ipykernel_launcher.py:4: UserWarning: genfromtxt: Empty input file: \"b0.csv\"\n",
      "  after removing the cwd from sys.path.\n"
     ]
    }
   ],
   "source": [
    "import numpy as np\n",
    "# Load data from CSV file\n",
    "A0 = np.genfromtxt('A0.csv', delimiter=',')\n",
    "b0 = np.genfromtxt('b0.csv', delimiter=',')\n",
    "\n",
    "# Print shape of the data\n",
    "print(np.shape(A0))\n",
    "print(np.shape(b0))\n"
   ]
  }
 ],
 "metadata": {
  "kernelspec": {
   "display_name": "pracop",
   "language": "python",
   "name": "python3"
  },
  "language_info": {
   "codemirror_mode": {
    "name": "ipython",
    "version": 3
   },
   "file_extension": ".py",
   "mimetype": "text/x-python",
   "name": "python",
   "nbconvert_exporter": "python",
   "pygments_lexer": "ipython3",
   "version": "3.7.16"
  }
 },
 "nbformat": 4,
 "nbformat_minor": 2
}
